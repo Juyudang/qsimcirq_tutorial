{
  "cells": [
    {
      "cell_type": "markdown",
      "metadata": {
        "colab_type": "text",
        "id": "view-in-github"
      },
      "source": [
        "<a href=\"https://colab.research.google.com/github/Juyudang/qsimcirq_tutorial/blob/main/docs/tutorials/qsimcirq.ipynb\" target=\"_parent\"><img src=\"https://colab.research.google.com/assets/colab-badge.svg\" alt=\"Open In Colab\"/></a>"
      ]
    },
    {
      "cell_type": "markdown",
      "metadata": {
        "id": "8M2lhf2RBGZj"
      },
      "source": [
        "##### Copyright 2020 Google"
      ]
    },
    {
      "cell_type": "code",
      "execution_count": null,
      "metadata": {
        "cellView": "form",
        "id": "FMqHt2UBBJzR"
      },
      "outputs": [],
      "source": [
        "#@title Licensed under the Apache License, Version 2.0 (the \"License\");\n",
        "# you may not use this file except in compliance with the License.\n",
        "# You may obtain a copy of the License at\n",
        "#\n",
        "# https://www.apache.org/licenses/LICENSE-2.0\n",
        "#\n",
        "# Unless required by applicable law or agreed to in writing, software\n",
        "# distributed under the License is distributed on an \"AS IS\" BASIS,\n",
        "# WITHOUT WARRANTIES OR CONDITIONS OF ANY KIND, either express or implied.\n",
        "# See the License for the specific language governing permissions and\n",
        "# limitations under the License."
      ]
    },
    {
      "cell_type": "markdown",
      "metadata": {
        "id": "vAx5g2rPnlzt"
      },
      "source": [
        "# Get started with qsimcirq"
      ]
    },
    {
      "cell_type": "markdown",
      "metadata": {
        "id": "5jqw8k0zBsb-"
      },
      "source": [
        "<table class=\"tfo-notebook-buttons\" align=\"left\">\n",
        "  <td>\n",
        "    <a target=\"_blank\" href=\"https://quantumai.google/qsim/tutorials/qsimcirq\"><img src=\"https://quantumai.google/site-assets/images/buttons/quantumai_logo_1x.png\" />View on QuantumAI</a>\n",
        "  </td>\n",
        "  <td>\n",
        "    <a target=\"_blank\" href=\"https://colab.research.google.com/github/quantumlib/qsim/blob/master/docs/tutorials/qsimcirq.ipynb\"><img src=\"https://quantumai.google/site-assets/images/buttons/colab_logo_1x.png\" />Run in Google Colab</a>\n",
        "  </td>\n",
        "  <td>\n",
        "    <a target=\"_blank\" href=\"https://github.com/quantumlib/qsim/blob/master/docs/tutorials/qsimcirq.ipynb\"><img src=\"https://quantumai.google/site-assets/images/buttons/github_logo_1x.png\" />View source on GitHub</a>\n",
        "  </td>\n",
        "  <td>\n",
        "    <a href=\"https://storage.googleapis.com/tensorflow_docs/qsim/docs/tutorials/qsimcirq.ipynb\"><img src=\"https://quantumai.google/site-assets/images/buttons/download_icon_1x.png\" />Download notebook</a>\n",
        "  </td>\n",
        "</table>"
      ]
    },
    {
      "cell_type": "markdown",
      "metadata": {
        "id": "VgdpPfgTCjQB"
      },
      "source": [
        "The qsim library provides a Python interface to Cirq in the **qsimcirq** PyPI package."
      ]
    },
    {
      "cell_type": "markdown",
      "metadata": {
        "id": "8vr-44j-Csxf"
      },
      "source": [
        "## Setup\n",
        "\n",
        "Install the Cirq and qsimcirq packages:"
      ]
    },
    {
      "cell_type": "code",
      "execution_count": 1,
      "metadata": {
        "colab": {
          "base_uri": "https://localhost:8080/"
        },
        "id": "XcAhsIQdivnp",
        "outputId": "79ab8227-4fcb-4424-9152-4c246f8dffc8"
      },
      "outputs": [
        {
          "name": "stdout",
          "output_type": "stream",
          "text": [
            "\u001b[31mERROR: pip's dependency resolver does not currently take into account all the packages that are installed. This behaviour is the source of the following dependency conflicts.\n",
            "jupyter-events 0.9.0 requires jsonschema[format-nongpl]>=4.18.0, but you have jsonschema 4.17.3 which is incompatible.\n",
            "jupyterlab 4.1.3 requires httpx>=0.25.0, but you have httpx 0.23.3 which is incompatible.\n",
            "jupyterlab-server 2.25.3 requires jsonschema>=4.18.0, but you have jsonschema 4.17.3 which is incompatible.\n",
            "referencing 0.33.0 requires attrs>=22.2.0, but you have attrs 21.4.0 which is incompatible.\u001b[0m\u001b[31m\n",
            "\u001b[0m"
          ]
        }
      ],
      "source": [
        "try:\n",
        "    import cirq\n",
        "except ImportError:\n",
        "    !pip install cirq --quiet\n",
        "    import cirq\n",
        "\n",
        "try:\n",
        "    import qsimcirq\n",
        "except ImportError:\n",
        "    !pip install qsimcirq --quiet\n",
        "    import qsimcirq"
      ]
    },
    {
      "cell_type": "markdown",
      "metadata": {
        "id": "7lYC4qxpDKMN"
      },
      "source": [
        "Simulating Cirq circuits with qsim is easy: just define the circuit as you normally would, then create a `QSimSimulator` to perform the simulation. This object implements Cirq's [simulator.py](https://github.com/quantumlib/Cirq/blob/master/cirq-core/cirq/sim/simulator.py) interfaces, so you can drop it in anywhere the basic Cirq simulator is used."
      ]
    },
    {
      "cell_type": "markdown",
      "metadata": {
        "id": "FXytmQlBoeTT"
      },
      "source": [
        "## Full state-vector simulation\n",
        "\n",
        "qsim is optimized for computing the final state vector of a circuit. Try it by running the example below."
      ]
    },
    {
      "cell_type": "code",
      "execution_count": 2,
      "metadata": {
        "colab": {
          "base_uri": "https://localhost:8080/"
        },
        "id": "jd8DaJMbjkCM",
        "outputId": "0d9a3a50-a52f-4adc-b391-cbecbb04dab9"
      },
      "outputs": [
        {
          "name": "stdout",
          "output_type": "stream",
          "text": [
            "Circuit:\n",
            "0: ───H───@───\n",
            "          │\n",
            "1: ───────X───\n",
            "\n",
            "Cirq results:\n",
            "measurements: (no measurements)\n",
            "\n",
            "qubits: (cirq.LineQubit(0), cirq.LineQubit(1))\n",
            "output vector: 0.707|00⟩ + 0.707|11⟩\n",
            "\n",
            "phase:\n",
            "output vector: |⟩\n",
            "\n",
            "qsim results:\n",
            "measurements: (no measurements)\n",
            "\n",
            "qubits: (cirq.LineQubit(0), cirq.LineQubit(1))\n",
            "output vector: 0.707|00⟩ + 0.707|11⟩\n"
          ]
        }
      ],
      "source": [
        "# Define qubits and a short circuit.\n",
        "q0, q1 = cirq.LineQubit.range(2)\n",
        "circuit = cirq.Circuit(cirq.H(q0), cirq.CX(q0, q1))\n",
        "print(\"Circuit:\")\n",
        "print(circuit)\n",
        "print()\n",
        "\n",
        "# Simulate the circuit with Cirq and return the full state vector.\n",
        "print('Cirq results:')\n",
        "cirq_simulator = cirq.Simulator()\n",
        "cirq_results = cirq_simulator.simulate(circuit)\n",
        "print(cirq_results)\n",
        "print()\n",
        "\n",
        "# Simulate the circuit with qsim and return the full state vector.\n",
        "print('qsim results:')\n",
        "qsim_simulator = qsimcirq.QSimSimulator()\n",
        "qsim_results = qsim_simulator.simulate(circuit)\n",
        "print(qsim_results)"
      ]
    },
    {
      "cell_type": "markdown",
      "metadata": {
        "id": "-kyXlKujtZcp"
      },
      "source": [
        "To sample from this state, you can invoke Cirq's `sample_state_vector` method:"
      ]
    },
    {
      "cell_type": "code",
      "execution_count": 3,
      "metadata": {
        "colab": {
          "base_uri": "https://localhost:8080/"
        },
        "id": "-m6uzQ6ms9I7",
        "outputId": "0a1cd8d1-9806-4713-b940-79e55bd6e6bc"
      },
      "outputs": [
        {
          "name": "stdout",
          "output_type": "stream",
          "text": [
            "[[1 1]\n",
            " [1 1]\n",
            " [1 1]\n",
            " [1 1]\n",
            " [1 1]\n",
            " [0 0]\n",
            " [0 0]\n",
            " [1 1]\n",
            " [0 0]\n",
            " [1 1]]\n"
          ]
        }
      ],
      "source": [
        "samples = cirq.sample_state_vector(\n",
        "    qsim_results.state_vector(), indices=[0, 1], repetitions=10)\n",
        "print(samples)"
      ]
    },
    {
      "cell_type": "markdown",
      "metadata": {
        "id": "pOhybi46sHwI"
      },
      "source": [
        "## Measurement sampling\n",
        "\n",
        "qsim also supports sampling from user-defined measurement gates.\n",
        "\n",
        "> *Note*: Since qsim and Cirq use different random number generators, identical runs on both simulators may give different results, even if they use the same seed."
      ]
    },
    {
      "cell_type": "code",
      "execution_count": 4,
      "metadata": {
        "colab": {
          "base_uri": "https://localhost:8080/"
        },
        "id": "NRJvtqYrnylJ",
        "outputId": "165fd5e9-00e0-449d-9b46-5cbca000e2cd"
      },
      "outputs": [
        {
          "name": "stdout",
          "output_type": "stream",
          "text": [
            "Circuit:\n",
            "0: ───H───@───M('qubit_0')───\n",
            "          │\n",
            "1: ───X───X───M('qubit_1')───\n",
            "\n",
            "Cirq results:\n",
            "qubit_0=11000\n",
            "qubit_1=00111\n",
            "\n",
            "qsim results:\n",
            "qubit_0=00111\n",
            "qubit_1=11000\n"
          ]
        }
      ],
      "source": [
        "# Define a circuit with measurements.\n",
        "q0, q1 = cirq.LineQubit.range(2)\n",
        "circuit = cirq.Circuit(\n",
        "    cirq.H(q0), cirq.X(q1), cirq.CX(q0, q1),\n",
        "    cirq.measure(q0, key='qubit_0'),\n",
        "    cirq.measure(q1, key='qubit_1'),\n",
        ")\n",
        "print(\"Circuit:\")\n",
        "print(circuit)\n",
        "print()\n",
        "\n",
        "# Simulate the circuit with Cirq and return just the measurement values.\n",
        "print('Cirq results:')\n",
        "cirq_simulator = cirq.Simulator()\n",
        "cirq_results = cirq_simulator.run(circuit, repetitions=5)\n",
        "print(cirq_results)\n",
        "print()\n",
        "\n",
        "# Simulate the circuit with qsim and return just the measurement values.\n",
        "print('qsim results:')\n",
        "qsim_simulator = qsimcirq.QSimSimulator()\n",
        "qsim_results = qsim_simulator.run(circuit, repetitions=5)\n",
        "print(qsim_results)"
      ]
    },
    {
      "cell_type": "markdown",
      "metadata": {
        "id": "6NoSr0E_wgR_"
      },
      "source": [
        "The warning above highlights an important distinction between the `simulate` and `run` methods:\n",
        "\n",
        "* `simulate` only executes the circuit once.\n",
        "  -  Sampling from the resulting state is fast, but if there are intermediate measurements the final state vector depends on the results of those measurements.\n",
        "* `run` will execute the circuit once for each repetition requested.\n",
        "  -  As a result, sampling is much slower, but intermediate measurements are re-sampled for each repetition. If there are no intermediate measurements, `run` redirects to `simulate` for faster execution.\n",
        "\n",
        "The warning goes away if intermediate measurements are present:"
      ]
    },
    {
      "cell_type": "code",
      "execution_count": 5,
      "metadata": {
        "colab": {
          "base_uri": "https://localhost:8080/"
        },
        "id": "hFrwYjWM0Hpa",
        "outputId": "3ea95324-9b45-453e-ff84-313646fdda19"
      },
      "outputs": [
        {
          "name": "stdout",
          "output_type": "stream",
          "text": [
            "Circuit:\n",
            "0: ───X^0.5───M('m0')───X^0.5───M('m1')───X^0.5───M('m2')───\n",
            "\n",
            "qsim results:\n",
            "m0=01000\n",
            "m1=10110\n",
            "m2=11110\n"
          ]
        }
      ],
      "source": [
        "# Define a circuit with intermediate measurements.\n",
        "q0 = cirq.LineQubit(0)\n",
        "circuit = cirq.Circuit(\n",
        "    cirq.X(q0)**0.5, cirq.measure(q0, key='m0'),\n",
        "    cirq.X(q0)**0.5, cirq.measure(q0, key='m1'),\n",
        "    cirq.X(q0)**0.5, cirq.measure(q0, key='m2'),\n",
        ")\n",
        "print(\"Circuit:\")\n",
        "print(circuit)\n",
        "print()\n",
        "\n",
        "# Simulate the circuit with qsim and return just the measurement values.\n",
        "print('qsim results:')\n",
        "qsim_simulator = qsimcirq.QSimSimulator()\n",
        "qsim_results = qsim_simulator.run(circuit, repetitions=5)\n",
        "print(qsim_results)"
      ]
    },
    {
      "cell_type": "markdown",
      "metadata": {
        "id": "KhPHBKpi0lYE"
      },
      "source": [
        "## Amplitude evaluation\n",
        "\n",
        "qsim can also calculate amplitudes for specific output bitstrings."
      ]
    },
    {
      "cell_type": "code",
      "execution_count": 6,
      "metadata": {
        "colab": {
          "base_uri": "https://localhost:8080/"
        },
        "id": "aCbvXO6M1jWB",
        "outputId": "8ec0b657-b0b5-4d0d-fe85-d5389316c6e1"
      },
      "outputs": [
        {
          "name": "stdout",
          "output_type": "stream",
          "text": [
            "Circuit:\n",
            "0: ───H───@───\n",
            "          │\n",
            "1: ───────X───\n",
            "\n",
            "Cirq results:\n",
            "[(0.7071067690849304+0j), 0j]\n",
            "\n",
            "qsim results:\n",
            "[(0.7071067690849304+0j), 0j]\n"
          ]
        }
      ],
      "source": [
        "# Define a simple circuit.\n",
        "q0, q1 = cirq.LineQubit.range(2)\n",
        "circuit = cirq.Circuit(cirq.H(q0), cirq.CX(q0, q1))\n",
        "print(\"Circuit:\")\n",
        "print(circuit)\n",
        "print()\n",
        "\n",
        "# Simulate the circuit with qsim and return the amplitudes for |00) and |01).\n",
        "print('Cirq results:')\n",
        "cirq_simulator = cirq.Simulator()\n",
        "cirq_results = cirq_simulator.compute_amplitudes(\n",
        "    circuit, bitstrings=[0b00, 0b01])\n",
        "print(cirq_results)\n",
        "print()\n",
        "\n",
        "# Simulate the circuit with qsim and return the amplitudes for |00) and |01).\n",
        "print('qsim results:')\n",
        "qsim_simulator = qsimcirq.QSimSimulator()\n",
        "qsim_results = qsim_simulator.compute_amplitudes(\n",
        "    circuit, bitstrings=[0b00, 0b01])\n",
        "print(qsim_results)"
      ]
    },
    {
      "cell_type": "markdown",
      "metadata": {
        "id": "zy5XRdkm219l"
      },
      "source": [
        "## Performance benchmark\n",
        "\n",
        "The code below generates a depth-16 circuit on a 4x5 qubit grid, then runs it against the basic Cirq simulator. For a circuit of this size, the difference in runtime can be significant - try it out!"
      ]
    },
    {
      "cell_type": "code",
      "execution_count": 7,
      "metadata": {
        "colab": {
          "base_uri": "https://localhost:8080/"
        },
        "id": "SyRpm08R3qCy",
        "outputId": "b03f3042-9514-4ba5-fefc-20f031137929"
      },
      "outputs": [
        {
          "name": "stdout",
          "output_type": "stream",
          "text": [
            "Cirq runtime: 4.14240288734436 seconds.\n",
            "\n",
            "qsim runtime: 0.15659785270690918 seconds.\n"
          ]
        }
      ],
      "source": [
        "import time\n",
        "\n",
        "# Get a rectangular grid of qubits.\n",
        "qubits = cirq.GridQubit.rect(4, 5)\n",
        "\n",
        "# Generates a random circuit on the provided qubits.\n",
        "circuit = cirq.experiments.random_rotations_between_grid_interaction_layers_circuit(\n",
        "    qubits=qubits, depth=16)\n",
        "\n",
        "# Simulate the circuit with Cirq and print the runtime.\n",
        "cirq_simulator = cirq.Simulator()\n",
        "cirq_start = time.time()\n",
        "cirq_results = cirq_simulator.simulate(circuit)\n",
        "cirq_elapsed = time.time() - cirq_start\n",
        "print(f'Cirq runtime: {cirq_elapsed} seconds.')\n",
        "print()\n",
        "\n",
        "# Simulate the circuit with qsim and print the runtime.\n",
        "qsim_simulator = qsimcirq.QSimSimulator()\n",
        "qsim_start = time.time()\n",
        "qsim_results = qsim_simulator.simulate(circuit)\n",
        "qsim_elapsed = time.time() - qsim_start\n",
        "print(f'qsim runtime: {qsim_elapsed} seconds.')"
      ]
    },
    {
      "cell_type": "markdown",
      "metadata": {
        "id": "OUjhKoRVZGKZ"
      },
      "source": [
        "qsim performance can be tuned further by passing options to the simulator constructor. These options use the same format as the qsim_base binary - a full description can be found in the qsim [usage doc](https://github.com/quantumlib/qsim/blob/master/docs/usage.md). The example below demonstrates enabling multithreading in qsim; for best performance, use the same number of threads as the number of cores (or virtual cores) on your machine."
      ]
    },
    {
      "cell_type": "code",
      "execution_count": null,
      "metadata": {
        "id": "yE6ZXAKzZL5P"
      },
      "outputs": [],
      "source": [
        "# Use eight threads to parallelize simulation.\n",
        "options = {'t': 8}\n",
        "\n",
        "qsim_simulator = qsimcirq.QSimSimulator(options)\n",
        "qsim_start = time.time()\n",
        "qsim_results = qsim_simulator.simulate(circuit)\n",
        "qsim_elapsed = time.time() - qsim_start\n",
        "print(f'qsim runtime: {qsim_elapsed} seconds.')"
      ]
    },
    {
      "cell_type": "markdown",
      "metadata": {
        "id": "HVkTbqfH4zls"
      },
      "source": [
        "Another option is to adjust the maximum number of qubits over which to fuse gates. Increasing this value (as demonstrated below) increases arithmetic intensity, which may improve performance with the right environment settings."
      ]
    },
    {
      "cell_type": "code",
      "execution_count": null,
      "metadata": {
        "id": "kkQ5ARpI5phJ"
      },
      "outputs": [],
      "source": [
        "# Increase maximum fused gate size to three qubits.\n",
        "options = {'f': 3}\n",
        "\n",
        "qsim_simulator = qsimcirq.QSimSimulator(options)\n",
        "qsim_start = time.time()\n",
        "qsim_results = qsim_simulator.simulate(circuit)\n",
        "qsim_elapsed = time.time() - qsim_start\n",
        "print(f'qsim runtime: {qsim_elapsed} seconds.')"
      ]
    },
    {
      "cell_type": "markdown",
      "metadata": {
        "id": "LgWOEMLKutsq"
      },
      "source": [
        "## Advanced applications: Distributed execution\n",
        "\n",
        "qsimh (qsim-hybrid) is a second library in the qsim repository that takes a slightly different approach to circuit simulation. When simulating a quantum circuit, it's possible to simplify the execution by decomposing a subset of two-qubit gates into pairs of one-qubit gates with shared indices. This operation is called \"slicing\" (or \"cutting\") the gates.\n",
        "\n",
        "qsimh takes advantage of the \"slicing\" operation by selecting a set of gates to \"slice\" and assigning each possible value of the shared indices across a set of executors running in parallel. By adding up the results afterwards, the total state can be recovered."
      ]
    },
    {
      "cell_type": "code",
      "execution_count": null,
      "metadata": {
        "id": "t3OkT3FKuuhp"
      },
      "outputs": [],
      "source": [
        "# Pick a pair of qubits.\n",
        "q0 = cirq.GridQubit(0, 0)\n",
        "q1 = cirq.GridQubit(0, 1)\n",
        "\n",
        "# Create a circuit that entangles the pair.\n",
        "circuit = cirq.Circuit(\n",
        "    cirq.H(q0), cirq.CX(q0, q1), cirq.X(q1)\n",
        ")\n",
        "print(\"Circuit:\")\n",
        "print(circuit)"
      ]
    },
    {
      "cell_type": "markdown",
      "metadata": {
        "id": "KUAwCOGeu0wA"
      },
      "source": [
        "In order to let qsimh know how we want to split up the circuit, we need to pass it some additional options. More detail on these can be found in the qsim [usage doc](https://github.com/quantumlib/qsim/blob/master/docs/usage.md), but the fundamentals are explained below."
      ]
    },
    {
      "cell_type": "code",
      "execution_count": null,
      "metadata": {
        "id": "VXc-A8e7u262"
      },
      "outputs": [],
      "source": [
        "options = {}\n",
        "\n",
        "# 'k' indicates the qubits on one side of the cut.\n",
        "# We'll use qubit 0 for this.\n",
        "options['k'] = [0]\n",
        "\n",
        "# 'p' and 'r' control when values are assigned to cut indices.\n",
        "# There are some intricacies in choosing values for these options,\n",
        "# but for now we'll set p=1 and r=0.\n",
        "# This allows us to pre-assign the value of the CX indices\n",
        "# and distribute its execution to multiple jobs.\n",
        "options['p'] = 1\n",
        "options['r'] = 0\n",
        "\n",
        "# 'w' indicates the value pre-assigned to the cut.\n",
        "# This should change for each execution.\n",
        "options['w'] = 0\n",
        "\n",
        "# Create the qsimh simulator with those options.\n",
        "qsimh_simulator = qsimcirq.QSimhSimulator(options)\n",
        "results_0 = qsimh_simulator.compute_amplitudes(\n",
        "    circuit, bitstrings=[0b00, 0b01, 0b10, 0b11])\n",
        "print(results_0)"
      ]
    },
    {
      "cell_type": "markdown",
      "metadata": {
        "id": "eij3DsN4u5Om"
      },
      "source": [
        "Now to run the other side of the cut..."
      ]
    },
    {
      "cell_type": "code",
      "execution_count": null,
      "metadata": {
        "id": "py6I1omau6Gk"
      },
      "outputs": [],
      "source": [
        "options['w'] = 1\n",
        "\n",
        "qsimh_simulator = qsimcirq.QSimhSimulator(options)\n",
        "results_1 = qsimh_simulator.compute_amplitudes(\n",
        "    circuit, bitstrings=[0b00, 0b01, 0b10, 0b11])\n",
        "print(results_1)"
      ]
    },
    {
      "cell_type": "markdown",
      "metadata": {
        "id": "wnjmLDedu7j4"
      },
      "source": [
        "...and add the two together. The results of a normal qsim simulation are shown for comparison."
      ]
    },
    {
      "cell_type": "code",
      "execution_count": null,
      "metadata": {
        "id": "YQoyZ6ldu7--"
      },
      "outputs": [],
      "source": [
        "results = [r0 + r1 for r0, r1 in zip(results_0, results_1)]\n",
        "print(\"qsimh results:\")\n",
        "print(results)\n",
        "\n",
        "qsim_simulator = qsimcirq.QSimSimulator()\n",
        "qsim_simulator.compute_amplitudes(circuit, bitstrings=[0b00, 0b01, 0b10, 0b11])\n",
        "print(\"qsim results:\")\n",
        "print(results)"
      ]
    },
    {
      "cell_type": "markdown",
      "metadata": {
        "id": "o11JcJJ8vEfW"
      },
      "source": [
        "The key point to note here is that `results_0` and `results_1` are completely independent - they can be run in parallel on two separate machines, with no communication between the two. Getting the full result requires `2^p` executions, but each individual result is much cheaper to calculate than trying to do the whole circuit at once."
      ]
    },
    {
      "cell_type": "markdown",
      "metadata": {},
      "source": [
        "# 작성한 부분\n",
        "\n",
        "[게이트 변환](https://quantumai.google/cirq/build/gates#measurement_gate)"
      ]
    },
    {
      "cell_type": "code",
      "execution_count": 1,
      "metadata": {
        "colab": {
          "base_uri": "https://localhost:8080/"
        },
        "id": "Z9kNUdLu_A85",
        "outputId": "36df78e9-f35d-4dcb-9d23-6f2165f9c69c"
      },
      "outputs": [],
      "source": [
        "# 사용 패키지 임포트 부분\n",
        "import numpy as np      # pi 계산하기위한 numpy\n",
        "import cirq\n",
        "import qsimcirq\n",
        "\n"
      ]
    },
    {
      "cell_type": "markdown",
      "metadata": {},
      "source": [
        "## Without Noise (ideal condition)"
      ]
    },
    {
      "cell_type": "markdown",
      "metadata": {},
      "source": [
        "### Fig. 4 (a)"
      ]
    },
    {
      "cell_type": "code",
      "execution_count": 2,
      "metadata": {},
      "outputs": [
        {
          "name": "stdout",
          "output_type": "stream",
          "text": [
            "Circuit without measure:\n",
            "0: ───Ry(0.5π)───\n",
            "\n",
            "Cirq results:\n",
            "measurements: (no measurements)\n",
            "\n",
            "qubits: (cirq.LineQubit(0),)\n",
            "output vector: 0.707|0⟩ + 0.707|1⟩\n",
            "\n",
            "phase:\n",
            "output vector: |⟩\n",
            "\n",
            "********************\n",
            "\n",
            "Circuit with measure:\n",
            "0: ───Ry(0.5π)───M('qubit_0')───\n",
            "\n",
            "qubit_0=10011011110100100101101100111111101001100100100001001111010010001000110000001100000001000111110010010101011011101001110111101010101100100011001111001111100010011001101110110111101011101110110010010011100001010010111001001010100101011101010110111000110011010011101000011111110101100101111100010110100011010011110011011110110000000111101111110110000101001100101111110011110010111011110101101101011110001001110110100101101111101110110010010111111010001010101000110100001010100110111100001011100101101110\n",
            "{1: 0.544, 0: 0.456}\n"
          ]
        }
      ],
      "source": [
        "q = cirq.LineQubit(0)\n",
        "\n",
        "# Create a circuit that rotates the qubit around the X and Y axes simultaneously.\n",
        "circuit = cirq.Circuit(cirq.ry(0.5 * np.pi)(q))\n",
        "print(\"Circuit without measure:\")\n",
        "print(circuit)\n",
        "print()\n",
        "\n",
        "# Simulate the circuit with Cirq and return the full state vector.\n",
        "print('Cirq results:')\n",
        "cirq_simulator = cirq.Simulator()\n",
        "cirq_results = cirq_simulator.simulate(circuit)\n",
        "print(cirq_results)\n",
        "\n",
        "print()\n",
        "print(\"********************\")\n",
        "print()\n",
        "\n",
        "circuit = cirq.Circuit(cirq.ry(0.5 * np.pi)(q), cirq.measure(q, key='qubit_0'))\n",
        "print(\"Circuit with measure:\")\n",
        "print(circuit)\n",
        "print()\n",
        "\n",
        "repeted_times = 500\n",
        "cirq_results = cirq_simulator.run(circuit, repetitions=repeted_times)\n",
        "print(cirq_results)\n",
        "\n",
        "counts = cirq_results.histogram(key='qubit_0')\n",
        "# Calculate probabilities\n",
        "probabilities = {outcome: count / repeted_times for outcome, count in counts.items()}\n",
        "print(probabilities)\n",
        "\n",
        "\n",
        "# # Simulate the circuit with qsim and return the full state vector.\n",
        "# print('qsim results:')\n",
        "# qsim_simulator = qsimcirq.QSimSimulator()\n",
        "# qsim_results = qsim_simulator.simulate(circuit)\n",
        "# print(qsim_results)"
      ]
    },
    {
      "cell_type": "markdown",
      "metadata": {},
      "source": [
        "### Fig. 4. (b)"
      ]
    },
    {
      "cell_type": "code",
      "execution_count": 3,
      "metadata": {},
      "outputs": [
        {
          "name": "stdout",
          "output_type": "stream",
          "text": [
            "Circuit without measure:\n",
            "0: ───Ry(0.5π)───Rx(π)───\n",
            "\n",
            "Cirq results:\n",
            "measurements: (no measurements)\n",
            "\n",
            "qubits: (cirq.LineQubit(0),)\n",
            "output vector: -0.707j|0⟩ - 0.707j|1⟩\n",
            "\n",
            "phase:\n",
            "output vector: |⟩\n",
            "\n",
            "********************\n",
            "\n",
            "Circuit with measure:\n",
            "0: ───Ry(0.5π)───Rx(π)───M('qubit_0')───\n",
            "\n",
            "qubit_0=10111000011010111001110111000111101011100000101001110011010001010101000011010111001011001001111000111010110000000010001001000011010011101011100101000101010001100001100101000101001010110111101001100001111011011000000110111011111111001111110001110101010010010101111100100011101001111111001000101011101011111100100000000011101111011000000111110010110010110110110000001101101011000001111110111001010100011111100101000101101110011000101001011100101101111100000010000000001110010110001001010001010011100010\n",
            "{1: 0.498, 0: 0.502}\n"
          ]
        }
      ],
      "source": [
        "q = cirq.LineQubit(0)\n",
        "\n",
        "# Create a circuit that rotates the qubit around the X and Y axes simultaneously.\n",
        "circuit = cirq.Circuit( cirq.ry(0.5 * np.pi)(q), cirq.rx(np.pi)(q) )\n",
        "print(\"Circuit without measure:\")\n",
        "print(circuit)\n",
        "print()\n",
        "\n",
        "# Simulate the circuit with Cirq and return the full state vector.\n",
        "print('Cirq results:')\n",
        "cirq_simulator = cirq.Simulator()\n",
        "cirq_results = cirq_simulator.simulate(circuit)\n",
        "print(cirq_results)\n",
        "\n",
        "print()\n",
        "print(\"********************\")\n",
        "print()\n",
        "\n",
        "circuit = cirq.Circuit( cirq.ry(0.5 * np.pi)(q), cirq.rx(np.pi)(q), cirq.measure(q, key='qubit_0'))\n",
        "print(\"Circuit with measure:\")\n",
        "print(circuit)\n",
        "print()\n",
        "\n",
        "repeted_times = 500\n",
        "cirq_results = cirq_simulator.run(circuit, repetitions=repeted_times)\n",
        "print(cirq_results)\n",
        "\n",
        "counts = cirq_results.histogram(key='qubit_0')\n",
        "# Calculate probabilities\n",
        "probabilities = {outcome: count / repeted_times for outcome, count in counts.items()}\n",
        "print(probabilities)"
      ]
    },
    {
      "cell_type": "markdown",
      "metadata": {},
      "source": [
        "### Fig. 5 (b) modulation \n",
        "1. [Rx(180) X Ry(90)]\n",
        "    R = Ry(π/2)⋅Rx(π)"
      ]
    },
    {
      "cell_type": "code",
      "execution_count": 6,
      "metadata": {},
      "outputs": [
        {
          "name": "stdout",
          "output_type": "stream",
          "text": [
            "Circuit without measure:\n",
            "      ┌                           ┐\n",
            "0: ───│-0.   -0.707j  0.   +0.707j│───\n",
            "      │ 0.707+0.j     0.707+0.j   │\n",
            "      └                           ┘\n",
            "\n",
            "Cirq results:\n",
            "measurements: (no measurements)\n",
            "\n",
            "qubits: (cirq.LineQubit(0),)\n",
            "output vector: -0.707j|0⟩ + 0.707|1⟩\n",
            "\n",
            "phase:\n",
            "output vector: |⟩\n",
            "\n",
            "********************\n",
            "\n",
            "Circuit with measure:\n",
            "      ┌                           ┐\n",
            "0: ───│-0.   -0.707j  0.   +0.707j│───M('qubit_0')───\n",
            "      │ 0.707+0.j     0.707+0.j   │\n",
            "      └                           ┘\n",
            "\n",
            "qubit_0=00111000000010111011001110011011001001100000101000000100101011000001110101110001100111101100000110000010100101100010101111011001110111100100101010110110011101111000100101000010001001110010101100000001100011100010011100000101111100011111111110010100100100110011001100000001000000001001100110101011110010110010100001010111000100101111010010100011111010101000000000010001001100011001110111010110001010101100100101101000110111110010110010011111101100011010000100001110001110010101000101101001110000110111\n",
            "{0: 0.534, 1: 0.466}\n"
          ]
        }
      ],
      "source": [
        "q = cirq.LineQubit(0)\n",
        "\n",
        "custom_matrix = np.array( [ [-1j/(2**0.5), 1j/(2**0.5)], [1/2**0.5, 1/2**0.5] ] )\n",
        "custom_gate = cirq.MatrixGate(custom_matrix)\n",
        "\n",
        "# Create a circuit that rotates the qubit around the X and Y axes simultaneously.\n",
        "circuit = cirq.Circuit(custom_gate(q))\n",
        "print(\"Circuit without measure:\")\n",
        "print(circuit)\n",
        "print()\n",
        "\n",
        "# Simulate the circuit with Cirq and return the full state vector.\n",
        "print('Cirq results:')\n",
        "cirq_simulator = cirq.Simulator()\n",
        "cirq_results = cirq_simulator.simulate(circuit)\n",
        "print(cirq_results)\n",
        "\n",
        "print()\n",
        "print(\"********************\")\n",
        "print()\n",
        "\n",
        "circuit = cirq.Circuit( custom_gate(q), cirq.measure(q, key='qubit_0'))\n",
        "print(\"Circuit with measure:\")\n",
        "print(circuit)\n",
        "print()\n",
        "\n",
        "repeted_times = 500\n",
        "cirq_results = cirq_simulator.run(circuit, repetitions=repeted_times)\n",
        "print(cirq_results)\n",
        "\n",
        "counts = cirq_results.histogram(key='qubit_0')\n",
        "# Calculate probabilities\n",
        "probabilities = {outcome: count / repeted_times for outcome, count in counts.items()}\n",
        "print(probabilities)"
      ]
    },
    {
      "cell_type": "markdown",
      "metadata": {},
      "source": [
        "### Fig. 5 (b) modulation \n",
        "2. [Ry(90) X Rx(180)]\n",
        "    R = Rx(π)⋅Ry(π/2)"
      ]
    },
    {
      "cell_type": "code",
      "execution_count": 7,
      "metadata": {},
      "outputs": [
        {
          "name": "stdout",
          "output_type": "stream",
          "text": [
            "Circuit without measure:\n",
            "      ┌                           ┐\n",
            "0: ───│-0.707+0.j     0.707+0.j   │───\n",
            "      │-0.   -0.707j -0.   -0.707j│\n",
            "      └                           ┘\n",
            "\n",
            "Cirq results:\n",
            "measurements: (no measurements)\n",
            "\n",
            "qubits: (cirq.LineQubit(0),)\n",
            "output vector: -0.707|0⟩ - 0.707j|1⟩\n",
            "\n",
            "phase:\n",
            "output vector: |⟩\n",
            "\n",
            "********************\n",
            "\n",
            "Circuit with measure:\n",
            "      ┌                           ┐\n",
            "0: ───│-0.707+0.j     0.707+0.j   │───M('qubit_0')───\n",
            "      │-0.   -0.707j -0.   -0.707j│\n",
            "      └                           ┘\n",
            "\n",
            "qubit_0=01101110010011010111000001001011101100111001011001011000000101010111001011100010010111110101111011101111100111101011110111101010011100110000100010111101111010001011001100110000101101111110000000001111100111110010111000110101001100001100010001000100111101010100001101000111010011001001010110100010010100011101001010000001110010001000011000110000100011100101010011010001110111111001101001001101000101000101110100011110110111110110110000111010100011100110001010010100110010111011001111010110110010111111\n",
            "{0: 0.488, 1: 0.512}\n"
          ]
        }
      ],
      "source": [
        "q = cirq.LineQubit(0)\n",
        "\n",
        "custom_matrix = np.array( [ [-1/(2**0.5), 1/(2**0.5)], [-1j/(2**0.5), -1j/(2**0.5)] ] )\n",
        "custom_gate = cirq.MatrixGate(custom_matrix)\n",
        "\n",
        "# Create a circuit that rotates the qubit around the X and Y axes simultaneously.\n",
        "circuit = cirq.Circuit(custom_gate(q))\n",
        "print(\"Circuit without measure:\")\n",
        "print(circuit)\n",
        "print()\n",
        "\n",
        "# Simulate the circuit with Cirq and return the full state vector.\n",
        "print('Cirq results:')\n",
        "cirq_simulator = cirq.Simulator()\n",
        "cirq_results = cirq_simulator.simulate(circuit)\n",
        "print(cirq_results)\n",
        "\n",
        "print()\n",
        "print(\"********************\")\n",
        "print()\n",
        "\n",
        "circuit = cirq.Circuit( custom_gate(q), cirq.measure(q, key='qubit_0'))\n",
        "print(\"Circuit with measure:\")\n",
        "print(circuit)\n",
        "print()\n",
        "\n",
        "repeted_times = 500\n",
        "cirq_results = cirq_simulator.run(circuit, repetitions=repeted_times)\n",
        "print(cirq_results)\n",
        "\n",
        "counts = cirq_results.histogram(key='qubit_0')\n",
        "# Calculate probabilities\n",
        "probabilities = {outcome: count / repeted_times for outcome, count in counts.items()}\n",
        "print(probabilities)"
      ]
    },
    {
      "cell_type": "markdown",
      "metadata": {},
      "source": [
        "### Fig. 7 Modified Hadamard\n",
        "1. [Rx(180) X Ry(90)]\n",
        "    R = Ry(-π/2) ⋅ (2Ry(π/2)⋅Rx(π)"
      ]
    },
    {
      "cell_type": "code",
      "execution_count": 8,
      "metadata": {},
      "outputs": [
        {
          "name": "stdout",
          "output_type": "stream",
          "text": [
            "Circuit without measure:\n",
            "      ┌                           ┐\n",
            "0: ───│-0.   -0.707j  0.   +0.707j│───Ry(-0.5π)───\n",
            "      │ 0.707+0.j     0.707+0.j   │\n",
            "      └                           ┘\n",
            "\n",
            "Cirq results:\n",
            "measurements: (no measurements)\n",
            "\n",
            "qubits: (cirq.LineQubit(0),)\n",
            "output vector: (0.5-0.5j)|0⟩ + (0.5+0.5j)|1⟩\n",
            "\n",
            "phase:\n",
            "output vector: |⟩\n",
            "\n",
            "********************\n",
            "\n",
            "Circuit with measure:\n",
            "      ┌                           ┐\n",
            "0: ───│-0.   -0.707j  0.   +0.707j│───Ry(-0.5π)───M('qubit_0')───\n",
            "      │ 0.707+0.j     0.707+0.j   │\n",
            "      └                           ┘\n",
            "\n",
            "qubit_0=11010010001110110010011110010100110000100110101110010110101111111110110001001001100001010011000110001111110010010011101110000111000010100110010011001010100111010101101001001001110110011111010110010000010010111111010010100110010111111010011100010010010111011000101111111001101010100000110100001010111100110110010001111110011101110100001110100001001010101000001010010110111100111100011101001010011011101010101010110010000000101100101110111100010101101100000010001010010110110011110100110101010011100111\n",
            "{1: 0.51, 0: 0.49}\n"
          ]
        }
      ],
      "source": [
        "q = cirq.LineQubit(0)\n",
        "\n",
        "custom_matrix = np.array( [ [-1j/(2**0.5), 1j/(2**0.5)], [1/2**0.5, 1/2**0.5] ] )\n",
        "custom_gate = cirq.MatrixGate(custom_matrix)\n",
        "\n",
        "# Create a circuit that rotates the qubit around the X and Y axes simultaneously.\n",
        "circuit = cirq.Circuit(custom_gate(q), cirq.ry(-0.5 * np.pi)(q))\n",
        "print(\"Circuit without measure:\")\n",
        "print(circuit)\n",
        "print()\n",
        "\n",
        "# Simulate the circuit with Cirq and return the full state vector.\n",
        "print('Cirq results:')\n",
        "cirq_simulator = cirq.Simulator()\n",
        "cirq_results = cirq_simulator.simulate(circuit)\n",
        "print(cirq_results)\n",
        "\n",
        "print()\n",
        "print(\"********************\")\n",
        "print()\n",
        "\n",
        "circuit = cirq.Circuit( custom_gate(q), cirq.ry(-0.5 * np.pi)(q), cirq.measure(q, key='qubit_0'))\n",
        "print(\"Circuit with measure:\")\n",
        "print(circuit)\n",
        "print()\n",
        "\n",
        "repeted_times = 500\n",
        "cirq_results = cirq_simulator.run(circuit, repetitions=repeted_times)\n",
        "print(cirq_results)\n",
        "\n",
        "counts = cirq_results.histogram(key='qubit_0')\n",
        "# Calculate probabilities\n",
        "probabilities = {outcome: count / repeted_times for outcome, count in counts.items()}\n",
        "print(probabilities)"
      ]
    },
    {
      "cell_type": "markdown",
      "metadata": {},
      "source": [
        "### Fig. 5 (b) modulation \n",
        "2. [Ry(90) X Rx(180)]\n",
        "    R = Ry(-π/2) ⋅ Rx(π)⋅Ry(π/2)"
      ]
    },
    {
      "cell_type": "code",
      "execution_count": 9,
      "metadata": {},
      "outputs": [
        {
          "name": "stdout",
          "output_type": "stream",
          "text": [
            "Circuit without measure:\n",
            "      ┌                           ┐\n",
            "0: ───│-0.707+0.j     0.707+0.j   │───Ry(-0.5π)───\n",
            "      │-0.   -0.707j -0.   -0.707j│\n",
            "      └                           ┘\n",
            "\n",
            "Cirq results:\n",
            "measurements: (no measurements)\n",
            "\n",
            "qubits: (cirq.LineQubit(0),)\n",
            "output vector: (-0.5-0.5j)|0⟩ + (0.5-0.5j)|1⟩\n",
            "\n",
            "phase:\n",
            "output vector: |⟩\n",
            "\n",
            "********************\n",
            "\n",
            "Circuit with measure:\n",
            "      ┌                           ┐\n",
            "0: ───│-0.707+0.j     0.707+0.j   │───Ry(-0.5π)───M('qubit_0')───\n",
            "      │-0.   -0.707j -0.   -0.707j│\n",
            "      └                           ┘\n",
            "\n",
            "qubit_0=11011100111110101101111010111111111110111111010110001111110111011111111100011110010100001011101001001010001100010111100100110001011011000001111011100111100000011110101111011110011100000100000011110100101110101001100001101110101011100111000111001010001010100010011111111101011101000100111010010110010001100010101000010001001000010110011101110100101100111001011101100110001001110010011000010111100000011111010100000111110111110011000000100101110000010010010100000011000101111111001101001111111111110100\n",
            "{1: 0.538, 0: 0.462}\n"
          ]
        }
      ],
      "source": [
        "q = cirq.LineQubit(0)\n",
        "\n",
        "custom_matrix = np.array( [ [-1/(2**0.5), 1/(2**0.5)], [-1j/(2**0.5), -1j/(2**0.5)] ] )\n",
        "custom_gate = cirq.MatrixGate(custom_matrix)\n",
        "\n",
        "# Create a circuit that rotates the qubit around the X and Y axes simultaneously.\n",
        "circuit = cirq.Circuit(custom_gate(q), cirq.ry(-0.5 * np.pi)(q))\n",
        "print(\"Circuit without measure:\")\n",
        "print(circuit)\n",
        "print()\n",
        "\n",
        "# Simulate the circuit with Cirq and return the full state vector.\n",
        "print('Cirq results:')\n",
        "cirq_simulator = cirq.Simulator()\n",
        "cirq_results = cirq_simulator.simulate(circuit)\n",
        "print(cirq_results)\n",
        "\n",
        "print()\n",
        "print(\"********************\")\n",
        "print()\n",
        "\n",
        "circuit = cirq.Circuit( custom_gate(q), cirq.ry(-0.5 * np.pi)(q), cirq.measure(q, key='qubit_0'))\n",
        "print(\"Circuit with measure:\")\n",
        "print(circuit)\n",
        "print()\n",
        "\n",
        "repeted_times = 500\n",
        "cirq_results = cirq_simulator.run(circuit, repetitions=repeted_times)\n",
        "print(cirq_results)\n",
        "\n",
        "counts = cirq_results.histogram(key='qubit_0')\n",
        "# Calculate probabilities\n",
        "probabilities = {outcome: count / repeted_times for outcome, count in counts.items()}\n",
        "print(probabilities)"
      ]
    },
    {
      "cell_type": "markdown",
      "metadata": {},
      "source": [
        "## Noisy Env"
      ]
    },
    {
      "cell_type": "code",
      "execution_count": 12,
      "metadata": {},
      "outputs": [
        {
          "ename": "AttributeError",
          "evalue": "'list' object has no attribute 'dimension'",
          "output_type": "error",
          "traceback": [
            "\u001b[0;31m---------------------------------------------------------------------------\u001b[0m",
            "\u001b[0;31mAttributeError\u001b[0m                            Traceback (most recent call last)",
            "Cell \u001b[0;32mIn[12], line 8\u001b[0m\n\u001b[1;32m      6\u001b[0m q \u001b[38;5;241m=\u001b[39m bit_flip\u001b[38;5;241m.\u001b[39mon_each(cirq\u001b[38;5;241m.\u001b[39mLineQubit\u001b[38;5;241m.\u001b[39mrange(\u001b[38;5;241m0\u001b[39m))\n\u001b[1;32m      7\u001b[0m \u001b[38;5;66;03m# Create a circuit that rotates the qubit around the X and Y axes simultaneously.\u001b[39;00m\n\u001b[0;32m----> 8\u001b[0m circuit \u001b[38;5;241m=\u001b[39m cirq\u001b[38;5;241m.\u001b[39mCircuit(\u001b[43mcirq\u001b[49m\u001b[38;5;241;43m.\u001b[39;49m\u001b[43mrx\u001b[49m\u001b[43m(\u001b[49m\u001b[38;5;241;43m0.5\u001b[39;49m\u001b[43m \u001b[49m\u001b[38;5;241;43m*\u001b[39;49m\u001b[43m \u001b[49m\u001b[43mnp\u001b[49m\u001b[38;5;241;43m.\u001b[39;49m\u001b[43mpi\u001b[49m\u001b[43m)\u001b[49m\u001b[43m(\u001b[49m\u001b[43mq\u001b[49m\u001b[43m)\u001b[49m, cirq\u001b[38;5;241m.\u001b[39mry(\u001b[38;5;241m0.5\u001b[39m \u001b[38;5;241m*\u001b[39m np\u001b[38;5;241m.\u001b[39mpi)(q), cirq\u001b[38;5;241m.\u001b[39mmeasure(q, key\u001b[38;5;241m=\u001b[39m\u001b[38;5;124m'\u001b[39m\u001b[38;5;124mqubit_0\u001b[39m\u001b[38;5;124m'\u001b[39m))\n\u001b[1;32m      9\u001b[0m \u001b[38;5;28mprint\u001b[39m(\u001b[38;5;124m\"\u001b[39m\u001b[38;5;124mCircuit:\u001b[39m\u001b[38;5;124m\"\u001b[39m)\n\u001b[1;32m     10\u001b[0m \u001b[38;5;28mprint\u001b[39m(circuit)\n",
            "File \u001b[0;32m~/.python/current/lib/python3.10/site-packages/cirq/ops/raw_types.py:360\u001b[0m, in \u001b[0;36mGate.__call__\u001b[0;34m(self, *qubits, **kwargs)\u001b[0m\n\u001b[1;32m    359\u001b[0m \u001b[38;5;28;01mdef\u001b[39;00m \u001b[38;5;21m__call__\u001b[39m(\u001b[38;5;28mself\u001b[39m, \u001b[38;5;241m*\u001b[39mqubits: Qid, \u001b[38;5;241m*\u001b[39m\u001b[38;5;241m*\u001b[39mkwargs):\n\u001b[0;32m--> 360\u001b[0m     \u001b[38;5;28;01mreturn\u001b[39;00m \u001b[38;5;28;43mself\u001b[39;49m\u001b[38;5;241;43m.\u001b[39;49m\u001b[43mon\u001b[49m\u001b[43m(\u001b[49m\u001b[38;5;241;43m*\u001b[39;49m\u001b[43mqubits\u001b[49m\u001b[43m)\u001b[49m\n",
            "File \u001b[0;32m~/.python/current/lib/python3.10/site-packages/cirq/ops/raw_types.py:233\u001b[0m, in \u001b[0;36mGate.on\u001b[0;34m(self, *qubits)\u001b[0m\n\u001b[1;32m    224\u001b[0m \u001b[38;5;28;01mdef\u001b[39;00m \u001b[38;5;21mon\u001b[39m(\u001b[38;5;28mself\u001b[39m, \u001b[38;5;241m*\u001b[39mqubits: Qid) \u001b[38;5;241m-\u001b[39m\u001b[38;5;241m>\u001b[39m \u001b[38;5;124m'\u001b[39m\u001b[38;5;124mOperation\u001b[39m\u001b[38;5;124m'\u001b[39m:\n\u001b[1;32m    225\u001b[0m \u001b[38;5;250m    \u001b[39m\u001b[38;5;124;03m\"\"\"Returns an application of this gate to the given qubits.\u001b[39;00m\n\u001b[1;32m    226\u001b[0m \n\u001b[1;32m    227\u001b[0m \u001b[38;5;124;03m    Args:\u001b[39;00m\n\u001b[0;32m   (...)\u001b[0m\n\u001b[1;32m    231\u001b[0m \u001b[38;5;124;03m        qubits.\u001b[39;00m\n\u001b[1;32m    232\u001b[0m \u001b[38;5;124;03m    \"\"\"\u001b[39;00m\n\u001b[0;32m--> 233\u001b[0m     \u001b[38;5;28;01mreturn\u001b[39;00m \u001b[43mops\u001b[49m\u001b[38;5;241;43m.\u001b[39;49m\u001b[43mgate_operation\u001b[49m\u001b[38;5;241;43m.\u001b[39;49m\u001b[43mGateOperation\u001b[49m\u001b[43m(\u001b[49m\u001b[38;5;28;43mself\u001b[39;49m\u001b[43m,\u001b[49m\u001b[43m \u001b[49m\u001b[38;5;28;43mlist\u001b[39;49m\u001b[43m(\u001b[49m\u001b[43mqubits\u001b[49m\u001b[43m)\u001b[49m\u001b[43m)\u001b[49m\n",
            "File \u001b[0;32m~/.python/current/lib/python3.10/site-packages/cirq/ops/gate_operation.py:60\u001b[0m, in \u001b[0;36mGateOperation.__init__\u001b[0;34m(self, gate, qubits)\u001b[0m\n\u001b[1;32m     53\u001b[0m \u001b[38;5;28;01mdef\u001b[39;00m \u001b[38;5;21m__init__\u001b[39m(\u001b[38;5;28mself\u001b[39m, gate: \u001b[38;5;124m'\u001b[39m\u001b[38;5;124mcirq.Gate\u001b[39m\u001b[38;5;124m'\u001b[39m, qubits: Sequence[\u001b[38;5;124m'\u001b[39m\u001b[38;5;124mcirq.Qid\u001b[39m\u001b[38;5;124m'\u001b[39m]) \u001b[38;5;241m-\u001b[39m\u001b[38;5;241m>\u001b[39m \u001b[38;5;28;01mNone\u001b[39;00m:\n\u001b[1;32m     54\u001b[0m \u001b[38;5;250m    \u001b[39m\u001b[38;5;124;03m\"\"\"Inits GateOperation.\u001b[39;00m\n\u001b[1;32m     55\u001b[0m \n\u001b[1;32m     56\u001b[0m \u001b[38;5;124;03m    Args:\u001b[39;00m\n\u001b[1;32m     57\u001b[0m \u001b[38;5;124;03m        gate: The gate to apply.\u001b[39;00m\n\u001b[1;32m     58\u001b[0m \u001b[38;5;124;03m        qubits: The qubits to operate on.\u001b[39;00m\n\u001b[1;32m     59\u001b[0m \u001b[38;5;124;03m    \"\"\"\u001b[39;00m\n\u001b[0;32m---> 60\u001b[0m     \u001b[43mgate\u001b[49m\u001b[38;5;241;43m.\u001b[39;49m\u001b[43mvalidate_args\u001b[49m\u001b[43m(\u001b[49m\u001b[43mqubits\u001b[49m\u001b[43m)\u001b[49m\n\u001b[1;32m     61\u001b[0m     \u001b[38;5;28mself\u001b[39m\u001b[38;5;241m.\u001b[39m_gate \u001b[38;5;241m=\u001b[39m gate\n\u001b[1;32m     62\u001b[0m     \u001b[38;5;28mself\u001b[39m\u001b[38;5;241m.\u001b[39m_qubits \u001b[38;5;241m=\u001b[39m \u001b[38;5;28mtuple\u001b[39m(qubits)\n",
            "File \u001b[0;32m~/.python/current/lib/python3.10/site-packages/cirq/ops/raw_types.py:222\u001b[0m, in \u001b[0;36mGate.validate_args\u001b[0;34m(self, qubits)\u001b[0m\n\u001b[1;32m    205\u001b[0m \u001b[38;5;250m\u001b[39m\u001b[38;5;124;03m\"\"\"Checks if this gate can be applied to the given qubits.\u001b[39;00m\n\u001b[1;32m    206\u001b[0m \n\u001b[1;32m    207\u001b[0m \u001b[38;5;124;03mBy default checks that:\u001b[39;00m\n\u001b[0;32m   (...)\u001b[0m\n\u001b[1;32m    219\u001b[0m \u001b[38;5;124;03m    ValueError: The gate can't be applied to the qubits.\u001b[39;00m\n\u001b[1;32m    220\u001b[0m \u001b[38;5;124;03m\"\"\"\u001b[39;00m\n\u001b[1;32m    221\u001b[0m \u001b[38;5;28;01mif\u001b[39;00m __cirq_debug__\u001b[38;5;241m.\u001b[39mget():\n\u001b[0;32m--> 222\u001b[0m     \u001b[43m_validate_qid_shape\u001b[49m\u001b[43m(\u001b[49m\u001b[38;5;28;43mself\u001b[39;49m\u001b[43m,\u001b[49m\u001b[43m \u001b[49m\u001b[43mqubits\u001b[49m\u001b[43m)\u001b[49m\n",
            "File \u001b[0;32m~/.python/current/lib/python3.10/site-packages/cirq/ops/raw_types.py:1048\u001b[0m, in \u001b[0;36m_validate_qid_shape\u001b[0;34m(val, qubits)\u001b[0m\n\u001b[1;32m   1043\u001b[0m \u001b[38;5;28;01mif\u001b[39;00m \u001b[38;5;28mlen\u001b[39m(qubits) \u001b[38;5;241m!=\u001b[39m \u001b[38;5;28mlen\u001b[39m(qid_shape):\n\u001b[1;32m   1044\u001b[0m     \u001b[38;5;28;01mraise\u001b[39;00m \u001b[38;5;167;01mValueError\u001b[39;00m(\n\u001b[1;32m   1045\u001b[0m         \u001b[38;5;124mf\u001b[39m\u001b[38;5;124m'\u001b[39m\u001b[38;5;124mWrong number of qubits for <\u001b[39m\u001b[38;5;132;01m{\u001b[39;00mval\u001b[38;5;132;01m!r}\u001b[39;00m\u001b[38;5;124m>. \u001b[39m\u001b[38;5;124m'\u001b[39m\n\u001b[1;32m   1046\u001b[0m         \u001b[38;5;124mf\u001b[39m\u001b[38;5;124m'\u001b[39m\u001b[38;5;124mExpected \u001b[39m\u001b[38;5;132;01m{\u001b[39;00m\u001b[38;5;28mlen\u001b[39m(qid_shape)\u001b[38;5;132;01m}\u001b[39;00m\u001b[38;5;124m qubits but got <\u001b[39m\u001b[38;5;132;01m{\u001b[39;00mqubits\u001b[38;5;132;01m!r}\u001b[39;00m\u001b[38;5;124m>.\u001b[39m\u001b[38;5;124m'\u001b[39m\n\u001b[1;32m   1047\u001b[0m     )\n\u001b[0;32m-> 1048\u001b[0m \u001b[38;5;28;01mif\u001b[39;00m \u001b[38;5;28;43many\u001b[39;49m\u001b[43m(\u001b[49m\u001b[43mqid\u001b[49m\u001b[38;5;241;43m.\u001b[39;49m\u001b[43mdimension\u001b[49m\u001b[43m \u001b[49m\u001b[38;5;241;43m!=\u001b[39;49m\u001b[43m \u001b[49m\u001b[43mdimension\u001b[49m\u001b[43m \u001b[49m\u001b[38;5;28;43;01mfor\u001b[39;49;00m\u001b[43m \u001b[49m\u001b[43mqid\u001b[49m\u001b[43m,\u001b[49m\u001b[43m \u001b[49m\u001b[43mdimension\u001b[49m\u001b[43m \u001b[49m\u001b[38;5;129;43;01min\u001b[39;49;00m\u001b[43m \u001b[49m\u001b[38;5;28;43mzip\u001b[39;49m\u001b[43m(\u001b[49m\u001b[43mqubits\u001b[49m\u001b[43m,\u001b[49m\u001b[43m \u001b[49m\u001b[43mqid_shape\u001b[49m\u001b[43m)\u001b[49m\u001b[43m)\u001b[49m:\n\u001b[1;32m   1049\u001b[0m     \u001b[38;5;28;01mraise\u001b[39;00m \u001b[38;5;167;01mValueError\u001b[39;00m(\n\u001b[1;32m   1050\u001b[0m         \u001b[38;5;124mf\u001b[39m\u001b[38;5;124m'\u001b[39m\u001b[38;5;124mWrong shape of qids for <\u001b[39m\u001b[38;5;132;01m{\u001b[39;00mval\u001b[38;5;132;01m!r}\u001b[39;00m\u001b[38;5;124m>. \u001b[39m\u001b[38;5;124m'\u001b[39m\n\u001b[1;32m   1051\u001b[0m         \u001b[38;5;124mf\u001b[39m\u001b[38;5;124m'\u001b[39m\u001b[38;5;124mExpected \u001b[39m\u001b[38;5;132;01m{\u001b[39;00mqid_shape\u001b[38;5;132;01m}\u001b[39;00m\u001b[38;5;124m but got \u001b[39m\u001b[38;5;132;01m{\u001b[39;00m\u001b[38;5;28mtuple\u001b[39m(qid\u001b[38;5;241m.\u001b[39mdimension\u001b[38;5;250m \u001b[39m\u001b[38;5;28;01mfor\u001b[39;00m\u001b[38;5;250m \u001b[39mqid\u001b[38;5;250m \u001b[39m\u001b[38;5;129;01min\u001b[39;00m\u001b[38;5;250m \u001b[39mqubits)\u001b[38;5;132;01m}\u001b[39;00m\u001b[38;5;124m <\u001b[39m\u001b[38;5;132;01m{\u001b[39;00mqubits\u001b[38;5;132;01m!r}\u001b[39;00m\u001b[38;5;124m>.\u001b[39m\u001b[38;5;124m'\u001b[39m\n\u001b[1;32m   1052\u001b[0m     )\n\u001b[1;32m   1053\u001b[0m \u001b[38;5;28;01mif\u001b[39;00m \u001b[38;5;28mlen\u001b[39m(\u001b[38;5;28mset\u001b[39m(qubits)) \u001b[38;5;241m!=\u001b[39m \u001b[38;5;28mlen\u001b[39m(qubits):\n",
            "File \u001b[0;32m~/.python/current/lib/python3.10/site-packages/cirq/ops/raw_types.py:1048\u001b[0m, in \u001b[0;36m<genexpr>\u001b[0;34m(.0)\u001b[0m\n\u001b[1;32m   1043\u001b[0m \u001b[38;5;28;01mif\u001b[39;00m \u001b[38;5;28mlen\u001b[39m(qubits) \u001b[38;5;241m!=\u001b[39m \u001b[38;5;28mlen\u001b[39m(qid_shape):\n\u001b[1;32m   1044\u001b[0m     \u001b[38;5;28;01mraise\u001b[39;00m \u001b[38;5;167;01mValueError\u001b[39;00m(\n\u001b[1;32m   1045\u001b[0m         \u001b[38;5;124mf\u001b[39m\u001b[38;5;124m'\u001b[39m\u001b[38;5;124mWrong number of qubits for <\u001b[39m\u001b[38;5;132;01m{\u001b[39;00mval\u001b[38;5;132;01m!r}\u001b[39;00m\u001b[38;5;124m>. \u001b[39m\u001b[38;5;124m'\u001b[39m\n\u001b[1;32m   1046\u001b[0m         \u001b[38;5;124mf\u001b[39m\u001b[38;5;124m'\u001b[39m\u001b[38;5;124mExpected \u001b[39m\u001b[38;5;132;01m{\u001b[39;00m\u001b[38;5;28mlen\u001b[39m(qid_shape)\u001b[38;5;132;01m}\u001b[39;00m\u001b[38;5;124m qubits but got <\u001b[39m\u001b[38;5;132;01m{\u001b[39;00mqubits\u001b[38;5;132;01m!r}\u001b[39;00m\u001b[38;5;124m>.\u001b[39m\u001b[38;5;124m'\u001b[39m\n\u001b[1;32m   1047\u001b[0m     )\n\u001b[0;32m-> 1048\u001b[0m \u001b[38;5;28;01mif\u001b[39;00m \u001b[38;5;28many\u001b[39m(\u001b[43mqid\u001b[49m\u001b[38;5;241;43m.\u001b[39;49m\u001b[43mdimension\u001b[49m \u001b[38;5;241m!=\u001b[39m dimension \u001b[38;5;28;01mfor\u001b[39;00m qid, dimension \u001b[38;5;129;01min\u001b[39;00m \u001b[38;5;28mzip\u001b[39m(qubits, qid_shape)):\n\u001b[1;32m   1049\u001b[0m     \u001b[38;5;28;01mraise\u001b[39;00m \u001b[38;5;167;01mValueError\u001b[39;00m(\n\u001b[1;32m   1050\u001b[0m         \u001b[38;5;124mf\u001b[39m\u001b[38;5;124m'\u001b[39m\u001b[38;5;124mWrong shape of qids for <\u001b[39m\u001b[38;5;132;01m{\u001b[39;00mval\u001b[38;5;132;01m!r}\u001b[39;00m\u001b[38;5;124m>. \u001b[39m\u001b[38;5;124m'\u001b[39m\n\u001b[1;32m   1051\u001b[0m         \u001b[38;5;124mf\u001b[39m\u001b[38;5;124m'\u001b[39m\u001b[38;5;124mExpected \u001b[39m\u001b[38;5;132;01m{\u001b[39;00mqid_shape\u001b[38;5;132;01m}\u001b[39;00m\u001b[38;5;124m but got \u001b[39m\u001b[38;5;132;01m{\u001b[39;00m\u001b[38;5;28mtuple\u001b[39m(qid\u001b[38;5;241m.\u001b[39mdimension\u001b[38;5;250m \u001b[39m\u001b[38;5;28;01mfor\u001b[39;00m\u001b[38;5;250m \u001b[39mqid\u001b[38;5;250m \u001b[39m\u001b[38;5;129;01min\u001b[39;00m\u001b[38;5;250m \u001b[39mqubits)\u001b[38;5;132;01m}\u001b[39;00m\u001b[38;5;124m <\u001b[39m\u001b[38;5;132;01m{\u001b[39;00mqubits\u001b[38;5;132;01m!r}\u001b[39;00m\u001b[38;5;124m>.\u001b[39m\u001b[38;5;124m'\u001b[39m\n\u001b[1;32m   1052\u001b[0m     )\n\u001b[1;32m   1053\u001b[0m \u001b[38;5;28;01mif\u001b[39;00m \u001b[38;5;28mlen\u001b[39m(\u001b[38;5;28mset\u001b[39m(qubits)) \u001b[38;5;241m!=\u001b[39m \u001b[38;5;28mlen\u001b[39m(qubits):\n",
            "\u001b[0;31mAttributeError\u001b[0m: 'list' object has no attribute 'dimension'"
          ]
        }
      ],
      "source": [
        "# Basic simulation of rotate X_90 and Y_90 (1/2 pi)\n",
        "bit_flip = cirq.bit_flip(p=0.1)\n",
        "nqubits = bit_flip.num_qubits()\n",
        "\n",
        "# q = cirq.LineQubit(0)\n",
        "q = bit_flip.on_each(cirq.LineQubit.range(0))\n",
        "# Create a circuit that rotates the qubit around the X and Y axes simultaneously.\n",
        "circuit = cirq.Circuit(cirq.rx(0.5 * np.pi)(q), cirq.ry(0.5 * np.pi)(q), cirq.measure(q, key='qubit_0'))\n",
        "print(\"Circuit:\")\n",
        "print(circuit)\n",
        "print()\n",
        "\n",
        "# Simulate the circuit with Cirq and return the full state vector.\n",
        "print('Cirq results:')\n",
        "cirq_simulator = cirq.Simulator()\n",
        "cirq_results = cirq_simulator.simulate(circuit)\n",
        "print(cirq_results)\n",
        "print()\n",
        "\n",
        "# # Simulate the circuit with qsim and return the full state vector.\n",
        "# print('qsim results:')\n",
        "# qsim_simulator = qsimcirq.QSimSimulator()\n",
        "# qsim_results = qsim_simulator.simulate(circuit)\n",
        "# print(qsim_results)"
      ]
    },
    {
      "cell_type": "code",
      "execution_count": null,
      "metadata": {},
      "outputs": [],
      "source": [
        ", cirq.measure(q, key='qubit_0')"
      ]
    }
  ],
  "metadata": {
    "colab": {
      "include_colab_link": true,
      "name": "qsimcirq.ipynb",
      "provenance": [],
      "toc_visible": true
    },
    "kernelspec": {
      "display_name": "Python 3",
      "name": "python3"
    },
    "language_info": {
      "codemirror_mode": {
        "name": "ipython",
        "version": 3
      },
      "file_extension": ".py",
      "mimetype": "text/x-python",
      "name": "python",
      "nbconvert_exporter": "python",
      "pygments_lexer": "ipython3",
      "version": "3.10.13"
    }
  },
  "nbformat": 4,
  "nbformat_minor": 0
}
